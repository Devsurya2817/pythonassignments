{
 "cells": [
  {
   "cell_type": "markdown",
   "id": "95477e8b-2a42-4c51-8fd4-f0d2d13b1c3c",
   "metadata": {},
   "source": [
    " Write a Python Program to find the squares of all the numbers in the given list of integers using \n",
    "lambda and map functions.\n",
    "\n",
    "\n",
    "[1, 2, 3, 4, 5, 6, 7, 8, 9, 10]"
   ]
  },
  {
   "cell_type": "code",
   "execution_count": 1,
   "id": "86c3049b-daba-41fe-9d16-324fe904ae71",
   "metadata": {},
   "outputs": [],
   "source": [
    "l=[1,2,3,4,5,6,7,8,9,10]"
   ]
  },
  {
   "cell_type": "code",
   "execution_count": 2,
   "id": "6d20df05-6d37-4213-9a53-3c6e951b75b3",
   "metadata": {},
   "outputs": [
    {
     "data": {
      "text/plain": [
       "[1, 4, 9, 16, 25, 36, 49, 64, 81, 100]"
      ]
     },
     "execution_count": 2,
     "metadata": {},
     "output_type": "execute_result"
    }
   ],
   "source": [
    "list(map(lambda x:x**2,l))"
   ]
  },
  {
   "cell_type": "markdown",
   "id": "bb4fd1cf-329f-4b82-a342-38f9746556f3",
   "metadata": {},
   "source": [
    "3) Write a python program to convert the given list of integers into a tuple of strings. Use map and \n",
    "lambda function"
   ]
  },
  {
   "cell_type": "code",
   "execution_count": 10,
   "id": "0f32df5d-2e1d-4d29-a77e-0d3b80524cb9",
   "metadata": {},
   "outputs": [],
   "source": [
    "l=[1,2,3,4,5,6,7,8,9,10]"
   ]
  },
  {
   "cell_type": "code",
   "execution_count": 23,
   "id": "31bae7a7-cc0e-47bf-878f-f67940c9f72c",
   "metadata": {},
   "outputs": [
    {
     "data": {
      "text/plain": [
       "('1', '2', '3', '4', '5', '6', '7', '8', '9', '10')"
      ]
     },
     "execution_count": 23,
     "metadata": {},
     "output_type": "execute_result"
    }
   ],
   "source": [
    "tuple(map(lambda x: str(x),l))"
   ]
  },
  {
   "cell_type": "markdown",
   "id": "bd6b11f3-f82d-4bc4-98d2-949b3ef09db8",
   "metadata": {},
   "source": [
    " 4)Write a python program using reduce function to compute the product of a list containing numbers \n",
    "from 1 to 25"
   ]
  },
  {
   "cell_type": "code",
   "execution_count": 39,
   "id": "28e4f2e5-27cd-46f0-8d52-1de1f345bc0c",
   "metadata": {},
   "outputs": [
    {
     "data": {
      "text/plain": [
       "15511210043330985984000000"
      ]
     },
     "execution_count": 39,
     "metadata": {},
     "output_type": "execute_result"
    }
   ],
   "source": [
    "a=list(range(1,26))\n",
    "from functools import reduce\n",
    "reduce(lambda x,y:x*y,a)\n",
    "    "
   ]
  },
  {
   "cell_type": "markdown",
   "id": "6f373134-d78a-4023-b80c-0dc85f26e92a",
   "metadata": {},
   "source": [
    "5) Write a python program to filter the numbers in a given list that are divisible by 2 and 3 using the \n",
    "filter function.\n",
    "\n",
    "\n",
    "[2, 3, 6, 9, 27, 60, 90, 120, 55, 46]"
   ]
  },
  {
   "cell_type": "code",
   "execution_count": 40,
   "id": "3cceedef-46e7-4a91-9ae2-8aa37655b0fc",
   "metadata": {},
   "outputs": [],
   "source": [
    "l=[2,3,6,9,27,60,90,120,55,46]"
   ]
  },
  {
   "cell_type": "code",
   "execution_count": 43,
   "id": "fa5c9280-aa0b-4f12-95d8-2ee8e3daf959",
   "metadata": {},
   "outputs": [
    {
     "data": {
      "text/plain": [
       "[6, 60, 90, 120]"
      ]
     },
     "execution_count": 43,
     "metadata": {},
     "output_type": "execute_result"
    }
   ],
   "source": [
    "list(filter(lambda x:x%6==0,l))"
   ]
  },
  {
   "cell_type": "markdown",
   "id": "e50f92c6-9d8b-4b15-95ba-799f7b6592fa",
   "metadata": {},
   "source": [
    "6)Write a python program to find palindromes in the given list of strings using lambda and filter \n",
    "function.['python', 'php', 'aba', 'radar', 'level']"
   ]
  },
  {
   "cell_type": "code",
   "execution_count": 44,
   "id": "f0274946-df41-44f1-8633-fcfd8c990e05",
   "metadata": {},
   "outputs": [],
   "source": [
    "l=['python', 'php', 'aba', 'radar', 'level']\n"
   ]
  },
  {
   "cell_type": "code",
   "execution_count": 46,
   "id": "ac2bfc58-7cbb-4a9c-a628-0aaaa5aa2e17",
   "metadata": {},
   "outputs": [
    {
     "data": {
      "text/plain": [
       "['php', 'aba', 'radar', 'level']"
      ]
     },
     "execution_count": 46,
     "metadata": {},
     "output_type": "execute_result"
    }
   ],
   "source": [
    "list(filter(lambda x:(x==''.join(reversed(x))),l))"
   ]
  },
  {
   "cell_type": "code",
   "execution_count": null,
   "id": "ab20f091-6188-4caf-8cab-a09eaf0ad66d",
   "metadata": {},
   "outputs": [],
   "source": []
  }
 ],
 "metadata": {
  "kernelspec": {
   "display_name": "Python 3 (ipykernel)",
   "language": "python",
   "name": "python3"
  },
  "language_info": {
   "codemirror_mode": {
    "name": "ipython",
    "version": 3
   },
   "file_extension": ".py",
   "mimetype": "text/x-python",
   "name": "python",
   "nbconvert_exporter": "python",
   "pygments_lexer": "ipython3",
   "version": "3.10.8"
  }
 },
 "nbformat": 4,
 "nbformat_minor": 5
}
